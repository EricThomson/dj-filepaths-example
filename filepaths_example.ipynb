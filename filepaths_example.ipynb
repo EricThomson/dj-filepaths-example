{
 "cells": [
  {
   "cell_type": "markdown",
   "metadata": {},
   "source": [
    "# Filepaths in datajoint example\n",
    "Following is taken from multiple sources, mostly:\n",
    "- https://docs.datajoint.io/python/definition/06.5-External-Data.html?highlight=stage#filepath-datatype (example)\n",
    "- https://docs.datajoint.io/python/admin/5-blob-config.html# (bit about 10MB)\n",
    "\n",
    "DataJoint organizes most of its data in a relational database. Relational databases excel at representing relationships between entities and storing structured data. However, relational databases are not particularly well-suited for storing large continuous chunks of data such as images, signals, and movies. An attribute of type longblob can contain an object up to 4 GiB in size (after compression) but storing many such large objects may hamper the performance of queries on the entire table. A good rule of thumb is that objects over 10 MiB in size should not be put in the relational database.\n",
    "\n",
    "The `filepath` attribute type links DataJoint records to files already managed outside of DataJoint. This can aid in sharing data with other systems such as allowing an image viewer application to directly use files from a DataJoint pipeline, or to allow downstream tables to reference data which reside outside of DataJoint pipelines.\n",
    "\n",
    "The main thing is to set up a store in your config settings, and then make a table that includes a filepath as a data type. Then you should be able to access that filepath and do what you want with the data you've got there."
   ]
  },
  {
   "cell_type": "code",
   "execution_count": 7,
   "metadata": {},
   "outputs": [],
   "source": [
    "import datajoint as dj\n",
    "import os\n",
    "import numpy as np\n",
    "import pandas as pd\n",
    "import matplotlib.pyplot as plt\n",
    "\n",
    "os.environ['FILEPATH_FEATURE_SWITCH'] = 'True'\n",
    "os.environ['DJ_SUPPORT_FILEPATH_MANAGEMENT'] = 'True'  #otherwise the world explodes"
   ]
  },
  {
   "cell_type": "code",
   "execution_count": null,
   "metadata": {},
   "outputs": [],
   "source": [
    "user = 'root'\n",
    "password = 'your_password' #replace with your password"
   ]
  },
  {
   "cell_type": "code",
   "execution_count": 22,
   "metadata": {},
   "outputs": [
    {
     "name": "stdout",
     "output_type": "stream",
     "text": [
      "C:\\Users\\Eric\\dj-filepaths-example\\images\n"
     ]
    }
   ],
   "source": [
    "image_dir = os.path.abspath('./images')\n",
    "print(image_dir)\n",
    "\n",
    "dj.config['stores'] = {\n",
    "  'data': {\n",
    "    'protocol': 'file',\n",
    "    'location': image_dir, #'/images' failed\n",
    "    'stage': image_dir  #'/images' failed \n",
    "  }\n",
    "}"
   ]
  },
  {
   "cell_type": "code",
   "execution_count": 10,
   "metadata": {},
   "outputs": [],
   "source": [
    "dj.config['database.host'] = '127.0.0.1'\n",
    "dj.config['database.user'] = user # replace with your username\n",
    "dj.config['database.password'] = password # replace with your pw"
   ]
  },
  {
   "cell_type": "code",
   "execution_count": 12,
   "metadata": {},
   "outputs": [],
   "source": [
    "schema = dj.schema(schema_name = 'path_tutorial', context = locals())  #locals just returns current scope local variables"
   ]
  },
  {
   "cell_type": "markdown",
   "metadata": {},
   "source": [
    "## Get the paths to the original images\n",
    "Just get the file paths. \n",
    "\n",
    "Question: why not just store them as strings? Is that different from what is happening on the back end?"
   ]
  },
  {
   "cell_type": "code",
   "execution_count": 26,
   "metadata": {},
   "outputs": [
    {
     "data": {
      "text/plain": [
       "['C:\\\\Users\\\\Eric\\\\dj-filepaths-example\\\\images\\\\cd00.png',\n",
       " 'C:\\\\Users\\\\Eric\\\\dj-filepaths-example\\\\images\\\\cd01.png',\n",
       " 'C:\\\\Users\\\\Eric\\\\dj-filepaths-example\\\\images\\\\cd02.png',\n",
       " 'C:\\\\Users\\\\Eric\\\\dj-filepaths-example\\\\images\\\\cd03.png',\n",
       " 'C:\\\\Users\\\\Eric\\\\dj-filepaths-example\\\\images\\\\cd04.png',\n",
       " 'C:\\\\Users\\\\Eric\\\\dj-filepaths-example\\\\images\\\\cd05.png',\n",
       " 'C:\\\\Users\\\\Eric\\\\dj-filepaths-example\\\\images\\\\cd06.png']"
      ]
     },
     "execution_count": 26,
     "metadata": {},
     "output_type": "execute_result"
    }
   ],
   "source": [
    "# Extract image paths (note could use Path/glob but trying to keep it simple for now)\n",
    "image_names = os.listdir(image_dir)\n",
    "image_paths = [image_dir + '\\\\' + image_name for image_name in image_names]\n",
    "cuteness = [1, 1, 1, 0, 0, 1, 1]\n",
    "image_paths"
   ]
  },
  {
   "cell_type": "markdown",
   "metadata": {},
   "source": [
    "## Create your table \n",
    "Let's keep it simple. Let's pretend there is one table that contains metadata about your images, and the filepath to the images."
   ]
  },
  {
   "cell_type": "code",
   "execution_count": 27,
   "metadata": {},
   "outputs": [],
   "source": [
    "@schema\n",
    "class AnimalImages(dj.Manual):\n",
    "    definition = \"\"\"\n",
    "    image_id:    int  #primary key\n",
    "    ---\n",
    "    image_path:  filepath@data  #filepath to image\n",
    "    cute: BOOL  #true or false if cute (0/1 could use tinyint(1))\n",
    "    \"\"\""
   ]
  },
  {
   "cell_type": "code",
   "execution_count": 28,
   "metadata": {},
   "outputs": [
    {
     "data": {
      "text/html": [
       "\n",
       "        \n",
       "        <style type=\"text/css\">\n",
       "            .Relation{\n",
       "                border-collapse:collapse;\n",
       "            }\n",
       "            .Relation th{\n",
       "                background: #A0A0A0; color: #ffffff; padding:4px; border:#f0e0e0 1px solid;\n",
       "                font-weight: normal; font-family: monospace; font-size: 100%;\n",
       "            }\n",
       "            .Relation td{\n",
       "                padding:4px; border:#f0e0e0 1px solid; font-size:100%;\n",
       "            }\n",
       "            .Relation tr:nth-child(odd){\n",
       "                background: #ffffff;\n",
       "            }\n",
       "            .Relation tr:nth-child(even){\n",
       "                background: #f3f1ff;\n",
       "            }\n",
       "            /* Tooltip container */\n",
       "            .djtooltip {\n",
       "            }\n",
       "            /* Tooltip text */\n",
       "            .djtooltip .djtooltiptext {\n",
       "                visibility: hidden;\n",
       "                width: 120px;\n",
       "                background-color: black;\n",
       "                color: #fff;\n",
       "                text-align: center;\n",
       "                padding: 5px 0;\n",
       "                border-radius: 6px;\n",
       "                /* Position the tooltip text - see examples below! */\n",
       "                position: absolute;\n",
       "                z-index: 1;\n",
       "            }\n",
       "            #primary {\n",
       "                font-weight: bold;\n",
       "                color: black;\n",
       "            }\n",
       "\n",
       "            #nonprimary {\n",
       "                font-weight: normal;\n",
       "                color: white;\n",
       "            }\n",
       "\n",
       "            /* Show the tooltip text when you mouse over the tooltip container */\n",
       "            .djtooltip:hover .djtooltiptext {\n",
       "                visibility: visible;\n",
       "            }\n",
       "        </style>\n",
       "        \n",
       "        <b></b>\n",
       "            <div style=\"max-height:1000px;max-width:1500px;overflow:auto;\">\n",
       "            <table border=\"1\" class=\"Relation\">\n",
       "                <thead> <tr style=\"text-align: right;\"> <th> <div class=\"djtooltip\">\n",
       "                                <p id=\"primary\">image_id</p>\n",
       "                                <span class=\"djtooltiptext\">primary key</span>\n",
       "                            </div></th><th><div class=\"djtooltip\">\n",
       "                                <p id=\"nonprimary\">image_path</p>\n",
       "                                <span class=\"djtooltiptext\">filepath to image</span>\n",
       "                            </div></th><th><div class=\"djtooltip\">\n",
       "                                <p id=\"nonprimary\">cute</p>\n",
       "                                <span class=\"djtooltiptext\">true or false if cute (0/1 could use tinyint(1))</span>\n",
       "                            </div> </th> </tr> </thead>\n",
       "                <tbody> <tr>  </tr> </tbody>\n",
       "            </table>\n",
       "            \n",
       "            <p>Total: 0</p></div>\n",
       "            "
      ],
      "text/plain": [
       "*image_id    image_path cute    \n",
       "+----------+ +--------+ +------+\n",
       "\n",
       " (Total: 0)"
      ]
     },
     "execution_count": 28,
     "metadata": {},
     "output_type": "execute_result"
    }
   ],
   "source": [
    "images = AnimalImages()\n",
    "images"
   ]
  },
  {
   "cell_type": "code",
   "execution_count": 19,
   "metadata": {},
   "outputs": [],
   "source": [
    "# if you wanted to add a single guy \n",
    "# dat_single = {'image_id': 0, 'image_path': image_paths[0]}\n",
    "# images.insert1(dat_single)\n",
    "# images"
   ]
  },
  {
   "cell_type": "markdown",
   "metadata": {},
   "source": [
    "Build up data dictionary."
   ]
  },
  {
   "cell_type": "code",
   "execution_count": 29,
   "metadata": {},
   "outputs": [
    {
     "data": {
      "text/plain": [
       "[{'image_id': 0,\n",
       "  'image_path': 'C:\\\\Users\\\\Eric\\\\dj-filepaths-example\\\\images\\\\cd00.png',\n",
       "  'cute': 1},\n",
       " {'image_id': 1,\n",
       "  'image_path': 'C:\\\\Users\\\\Eric\\\\dj-filepaths-example\\\\images\\\\cd01.png',\n",
       "  'cute': 1},\n",
       " {'image_id': 2,\n",
       "  'image_path': 'C:\\\\Users\\\\Eric\\\\dj-filepaths-example\\\\images\\\\cd02.png',\n",
       "  'cute': 1},\n",
       " {'image_id': 3,\n",
       "  'image_path': 'C:\\\\Users\\\\Eric\\\\dj-filepaths-example\\\\images\\\\cd03.png',\n",
       "  'cute': 0},\n",
       " {'image_id': 4,\n",
       "  'image_path': 'C:\\\\Users\\\\Eric\\\\dj-filepaths-example\\\\images\\\\cd04.png',\n",
       "  'cute': 0},\n",
       " {'image_id': 5,\n",
       "  'image_path': 'C:\\\\Users\\\\Eric\\\\dj-filepaths-example\\\\images\\\\cd05.png',\n",
       "  'cute': 1},\n",
       " {'image_id': 6,\n",
       "  'image_path': 'C:\\\\Users\\\\Eric\\\\dj-filepaths-example\\\\images\\\\cd06.png',\n",
       "  'cute': 1}]"
      ]
     },
     "execution_count": 29,
     "metadata": {},
     "output_type": "execute_result"
    }
   ],
   "source": [
    "dat_list = [{'image_id': ind, \n",
    "             'image_path': image_path,\n",
    "             'cute': cuteness[ind]} for (ind, image_path) in enumerate(image_paths)]\n",
    "dat_list"
   ]
  },
  {
   "cell_type": "code",
   "execution_count": 30,
   "metadata": {},
   "outputs": [
    {
     "data": {
      "text/html": [
       "\n",
       "        \n",
       "        <style type=\"text/css\">\n",
       "            .Relation{\n",
       "                border-collapse:collapse;\n",
       "            }\n",
       "            .Relation th{\n",
       "                background: #A0A0A0; color: #ffffff; padding:4px; border:#f0e0e0 1px solid;\n",
       "                font-weight: normal; font-family: monospace; font-size: 100%;\n",
       "            }\n",
       "            .Relation td{\n",
       "                padding:4px; border:#f0e0e0 1px solid; font-size:100%;\n",
       "            }\n",
       "            .Relation tr:nth-child(odd){\n",
       "                background: #ffffff;\n",
       "            }\n",
       "            .Relation tr:nth-child(even){\n",
       "                background: #f3f1ff;\n",
       "            }\n",
       "            /* Tooltip container */\n",
       "            .djtooltip {\n",
       "            }\n",
       "            /* Tooltip text */\n",
       "            .djtooltip .djtooltiptext {\n",
       "                visibility: hidden;\n",
       "                width: 120px;\n",
       "                background-color: black;\n",
       "                color: #fff;\n",
       "                text-align: center;\n",
       "                padding: 5px 0;\n",
       "                border-radius: 6px;\n",
       "                /* Position the tooltip text - see examples below! */\n",
       "                position: absolute;\n",
       "                z-index: 1;\n",
       "            }\n",
       "            #primary {\n",
       "                font-weight: bold;\n",
       "                color: black;\n",
       "            }\n",
       "\n",
       "            #nonprimary {\n",
       "                font-weight: normal;\n",
       "                color: white;\n",
       "            }\n",
       "\n",
       "            /* Show the tooltip text when you mouse over the tooltip container */\n",
       "            .djtooltip:hover .djtooltiptext {\n",
       "                visibility: visible;\n",
       "            }\n",
       "        </style>\n",
       "        \n",
       "        <b></b>\n",
       "            <div style=\"max-height:1000px;max-width:1500px;overflow:auto;\">\n",
       "            <table border=\"1\" class=\"Relation\">\n",
       "                <thead> <tr style=\"text-align: right;\"> <th> <div class=\"djtooltip\">\n",
       "                                <p id=\"primary\">image_id</p>\n",
       "                                <span class=\"djtooltiptext\">primary key</span>\n",
       "                            </div></th><th><div class=\"djtooltip\">\n",
       "                                <p id=\"nonprimary\">image_path</p>\n",
       "                                <span class=\"djtooltiptext\">filepath to image</span>\n",
       "                            </div></th><th><div class=\"djtooltip\">\n",
       "                                <p id=\"nonprimary\">cute</p>\n",
       "                                <span class=\"djtooltiptext\">true or false if cute (0/1 could use tinyint(1))</span>\n",
       "                            </div> </th> </tr> </thead>\n",
       "                <tbody> <tr> <td>0</td>\n",
       "<td>=BLOB=</td>\n",
       "<td>1</td></tr><tr><td>1</td>\n",
       "<td>=BLOB=</td>\n",
       "<td>1</td></tr><tr><td>2</td>\n",
       "<td>=BLOB=</td>\n",
       "<td>1</td></tr><tr><td>3</td>\n",
       "<td>=BLOB=</td>\n",
       "<td>0</td></tr><tr><td>4</td>\n",
       "<td>=BLOB=</td>\n",
       "<td>0</td></tr><tr><td>5</td>\n",
       "<td>=BLOB=</td>\n",
       "<td>1</td></tr><tr><td>6</td>\n",
       "<td>=BLOB=</td>\n",
       "<td>1</td> </tr> </tbody>\n",
       "            </table>\n",
       "            \n",
       "            <p>Total: 7</p></div>\n",
       "            "
      ],
      "text/plain": [
       "*image_id    image_path cute    \n",
       "+----------+ +--------+ +------+\n",
       "0            =BLOB=     1       \n",
       "1            =BLOB=     1       \n",
       "2            =BLOB=     1       \n",
       "3            =BLOB=     0       \n",
       "4            =BLOB=     0       \n",
       "5            =BLOB=     1       \n",
       "6            =BLOB=     1       \n",
       " (Total: 7)"
      ]
     },
     "execution_count": 30,
     "metadata": {},
     "output_type": "execute_result"
    }
   ],
   "source": [
    "images.insert(dat_list)\n",
    "images"
   ]
  },
  {
   "cell_type": "markdown",
   "metadata": {},
   "source": [
    "## Ok cool now use it\n",
    "Basic fetch and stuff."
   ]
  },
  {
   "cell_type": "code",
   "execution_count": 31,
   "metadata": {},
   "outputs": [
    {
     "data": {
      "text/plain": [
       "[{'image_id': 0,\n",
       "  'image_path': 'C:\\\\Users\\\\Eric\\\\dj-filepaths-example\\\\images\\\\cd00.png',\n",
       "  'cute': 1},\n",
       " {'image_id': 1,\n",
       "  'image_path': 'C:\\\\Users\\\\Eric\\\\dj-filepaths-example\\\\images\\\\cd01.png',\n",
       "  'cute': 1},\n",
       " {'image_id': 2,\n",
       "  'image_path': 'C:\\\\Users\\\\Eric\\\\dj-filepaths-example\\\\images\\\\cd02.png',\n",
       "  'cute': 1},\n",
       " {'image_id': 3,\n",
       "  'image_path': 'C:\\\\Users\\\\Eric\\\\dj-filepaths-example\\\\images\\\\cd03.png',\n",
       "  'cute': 0},\n",
       " {'image_id': 4,\n",
       "  'image_path': 'C:\\\\Users\\\\Eric\\\\dj-filepaths-example\\\\images\\\\cd04.png',\n",
       "  'cute': 0},\n",
       " {'image_id': 5,\n",
       "  'image_path': 'C:\\\\Users\\\\Eric\\\\dj-filepaths-example\\\\images\\\\cd05.png',\n",
       "  'cute': 1},\n",
       " {'image_id': 6,\n",
       "  'image_path': 'C:\\\\Users\\\\Eric\\\\dj-filepaths-example\\\\images\\\\cd06.png',\n",
       "  'cute': 1}]"
      ]
     },
     "execution_count": 31,
     "metadata": {},
     "output_type": "execute_result"
    }
   ],
   "source": [
    "images.fetch(as_dict = True)"
   ]
  },
  {
   "cell_type": "code",
   "execution_count": 32,
   "metadata": {},
   "outputs": [
    {
     "data": {
      "text/html": [
       "\n",
       "        \n",
       "        <style type=\"text/css\">\n",
       "            .Relation{\n",
       "                border-collapse:collapse;\n",
       "            }\n",
       "            .Relation th{\n",
       "                background: #A0A0A0; color: #ffffff; padding:4px; border:#f0e0e0 1px solid;\n",
       "                font-weight: normal; font-family: monospace; font-size: 100%;\n",
       "            }\n",
       "            .Relation td{\n",
       "                padding:4px; border:#f0e0e0 1px solid; font-size:100%;\n",
       "            }\n",
       "            .Relation tr:nth-child(odd){\n",
       "                background: #ffffff;\n",
       "            }\n",
       "            .Relation tr:nth-child(even){\n",
       "                background: #f3f1ff;\n",
       "            }\n",
       "            /* Tooltip container */\n",
       "            .djtooltip {\n",
       "            }\n",
       "            /* Tooltip text */\n",
       "            .djtooltip .djtooltiptext {\n",
       "                visibility: hidden;\n",
       "                width: 120px;\n",
       "                background-color: black;\n",
       "                color: #fff;\n",
       "                text-align: center;\n",
       "                padding: 5px 0;\n",
       "                border-radius: 6px;\n",
       "                /* Position the tooltip text - see examples below! */\n",
       "                position: absolute;\n",
       "                z-index: 1;\n",
       "            }\n",
       "            #primary {\n",
       "                font-weight: bold;\n",
       "                color: black;\n",
       "            }\n",
       "\n",
       "            #nonprimary {\n",
       "                font-weight: normal;\n",
       "                color: white;\n",
       "            }\n",
       "\n",
       "            /* Show the tooltip text when you mouse over the tooltip container */\n",
       "            .djtooltip:hover .djtooltiptext {\n",
       "                visibility: visible;\n",
       "            }\n",
       "        </style>\n",
       "        \n",
       "        <b></b>\n",
       "            <div style=\"max-height:1000px;max-width:1500px;overflow:auto;\">\n",
       "            <table border=\"1\" class=\"Relation\">\n",
       "                <thead> <tr style=\"text-align: right;\"> <th> <div class=\"djtooltip\">\n",
       "                                <p id=\"primary\">image_id</p>\n",
       "                                <span class=\"djtooltiptext\">primary key</span>\n",
       "                            </div></th><th><div class=\"djtooltip\">\n",
       "                                <p id=\"nonprimary\">image_path</p>\n",
       "                                <span class=\"djtooltiptext\">filepath to image</span>\n",
       "                            </div></th><th><div class=\"djtooltip\">\n",
       "                                <p id=\"nonprimary\">cute</p>\n",
       "                                <span class=\"djtooltiptext\">true or false if cute (0/1 could use tinyint(1))</span>\n",
       "                            </div> </th> </tr> </thead>\n",
       "                <tbody> <tr> <td>0</td>\n",
       "<td>=BLOB=</td>\n",
       "<td>1</td></tr><tr><td>1</td>\n",
       "<td>=BLOB=</td>\n",
       "<td>1</td></tr><tr><td>2</td>\n",
       "<td>=BLOB=</td>\n",
       "<td>1</td></tr><tr><td>3</td>\n",
       "<td>=BLOB=</td>\n",
       "<td>0</td></tr><tr><td>4</td>\n",
       "<td>=BLOB=</td>\n",
       "<td>0</td></tr><tr><td>5</td>\n",
       "<td>=BLOB=</td>\n",
       "<td>1</td></tr><tr><td>6</td>\n",
       "<td>=BLOB=</td>\n",
       "<td>1</td> </tr> </tbody>\n",
       "            </table>\n",
       "            \n",
       "            <p>Total: 7</p></div>\n",
       "            "
      ],
      "text/plain": [
       "*image_id    image_path cute    \n",
       "+----------+ +--------+ +------+\n",
       "0            =BLOB=     1       \n",
       "1            =BLOB=     1       \n",
       "2            =BLOB=     1       \n",
       "3            =BLOB=     0       \n",
       "4            =BLOB=     0       \n",
       "5            =BLOB=     1       \n",
       "6            =BLOB=     1       \n",
       " (Total: 7)"
      ]
     },
     "execution_count": 32,
     "metadata": {},
     "output_type": "execute_result"
    }
   ],
   "source": [
    "images"
   ]
  },
  {
   "cell_type": "code",
   "execution_count": 33,
   "metadata": {},
   "outputs": [
    {
     "data": {
      "text/html": [
       "\n",
       "        \n",
       "        <style type=\"text/css\">\n",
       "            .Relation{\n",
       "                border-collapse:collapse;\n",
       "            }\n",
       "            .Relation th{\n",
       "                background: #A0A0A0; color: #ffffff; padding:4px; border:#f0e0e0 1px solid;\n",
       "                font-weight: normal; font-family: monospace; font-size: 100%;\n",
       "            }\n",
       "            .Relation td{\n",
       "                padding:4px; border:#f0e0e0 1px solid; font-size:100%;\n",
       "            }\n",
       "            .Relation tr:nth-child(odd){\n",
       "                background: #ffffff;\n",
       "            }\n",
       "            .Relation tr:nth-child(even){\n",
       "                background: #f3f1ff;\n",
       "            }\n",
       "            /* Tooltip container */\n",
       "            .djtooltip {\n",
       "            }\n",
       "            /* Tooltip text */\n",
       "            .djtooltip .djtooltiptext {\n",
       "                visibility: hidden;\n",
       "                width: 120px;\n",
       "                background-color: black;\n",
       "                color: #fff;\n",
       "                text-align: center;\n",
       "                padding: 5px 0;\n",
       "                border-radius: 6px;\n",
       "                /* Position the tooltip text - see examples below! */\n",
       "                position: absolute;\n",
       "                z-index: 1;\n",
       "            }\n",
       "            #primary {\n",
       "                font-weight: bold;\n",
       "                color: black;\n",
       "            }\n",
       "\n",
       "            #nonprimary {\n",
       "                font-weight: normal;\n",
       "                color: white;\n",
       "            }\n",
       "\n",
       "            /* Show the tooltip text when you mouse over the tooltip container */\n",
       "            .djtooltip:hover .djtooltiptext {\n",
       "                visibility: visible;\n",
       "            }\n",
       "        </style>\n",
       "        \n",
       "        <b></b>\n",
       "            <div style=\"max-height:1000px;max-width:1500px;overflow:auto;\">\n",
       "            <table border=\"1\" class=\"Relation\">\n",
       "                <thead> <tr style=\"text-align: right;\"> <th> <div class=\"djtooltip\">\n",
       "                                <p id=\"primary\">image_id</p>\n",
       "                                <span class=\"djtooltiptext\">primary key</span>\n",
       "                            </div></th><th><div class=\"djtooltip\">\n",
       "                                <p id=\"nonprimary\">image_path</p>\n",
       "                                <span class=\"djtooltiptext\">filepath to image</span>\n",
       "                            </div></th><th><div class=\"djtooltip\">\n",
       "                                <p id=\"nonprimary\">cute</p>\n",
       "                                <span class=\"djtooltiptext\">true or false if cute (0/1 could use tinyint(1))</span>\n",
       "                            </div> </th> </tr> </thead>\n",
       "                <tbody> <tr> <td>3</td>\n",
       "<td>=BLOB=</td>\n",
       "<td>0</td></tr><tr><td>4</td>\n",
       "<td>=BLOB=</td>\n",
       "<td>0</td> </tr> </tbody>\n",
       "            </table>\n",
       "            \n",
       "            <p>Total: 2</p></div>\n",
       "            "
      ],
      "text/plain": [
       "*image_id    image_path cute    \n",
       "+----------+ +--------+ +------+\n",
       "3            =BLOB=     0       \n",
       "4            =BLOB=     0       \n",
       " (Total: 2)"
      ]
     },
     "execution_count": 33,
     "metadata": {},
     "output_type": "execute_result"
    }
   ],
   "source": [
    "images & 'cute = 0'"
   ]
  },
  {
   "cell_type": "markdown",
   "metadata": {},
   "source": [
    "Convert to pandas see how it displays in there"
   ]
  },
  {
   "cell_type": "code",
   "execution_count": 34,
   "metadata": {},
   "outputs": [
    {
     "data": {
      "text/html": [
       "<div>\n",
       "<style scoped>\n",
       "    .dataframe tbody tr th:only-of-type {\n",
       "        vertical-align: middle;\n",
       "    }\n",
       "\n",
       "    .dataframe tbody tr th {\n",
       "        vertical-align: top;\n",
       "    }\n",
       "\n",
       "    .dataframe thead th {\n",
       "        text-align: right;\n",
       "    }\n",
       "</style>\n",
       "<table border=\"1\" class=\"dataframe\">\n",
       "  <thead>\n",
       "    <tr style=\"text-align: right;\">\n",
       "      <th></th>\n",
       "      <th>image_id</th>\n",
       "      <th>image_path</th>\n",
       "      <th>cute</th>\n",
       "    </tr>\n",
       "  </thead>\n",
       "  <tbody>\n",
       "    <tr>\n",
       "      <th>0</th>\n",
       "      <td>0</td>\n",
       "      <td>C:\\Users\\Eric\\dj-filepaths-example\\images\\cd00...</td>\n",
       "      <td>1</td>\n",
       "    </tr>\n",
       "    <tr>\n",
       "      <th>1</th>\n",
       "      <td>1</td>\n",
       "      <td>C:\\Users\\Eric\\dj-filepaths-example\\images\\cd01...</td>\n",
       "      <td>1</td>\n",
       "    </tr>\n",
       "    <tr>\n",
       "      <th>2</th>\n",
       "      <td>2</td>\n",
       "      <td>C:\\Users\\Eric\\dj-filepaths-example\\images\\cd02...</td>\n",
       "      <td>1</td>\n",
       "    </tr>\n",
       "    <tr>\n",
       "      <th>3</th>\n",
       "      <td>3</td>\n",
       "      <td>C:\\Users\\Eric\\dj-filepaths-example\\images\\cd03...</td>\n",
       "      <td>0</td>\n",
       "    </tr>\n",
       "    <tr>\n",
       "      <th>4</th>\n",
       "      <td>4</td>\n",
       "      <td>C:\\Users\\Eric\\dj-filepaths-example\\images\\cd04...</td>\n",
       "      <td>0</td>\n",
       "    </tr>\n",
       "  </tbody>\n",
       "</table>\n",
       "</div>"
      ],
      "text/plain": [
       "   image_id                                         image_path  cute\n",
       "0         0  C:\\Users\\Eric\\dj-filepaths-example\\images\\cd00...     1\n",
       "1         1  C:\\Users\\Eric\\dj-filepaths-example\\images\\cd01...     1\n",
       "2         2  C:\\Users\\Eric\\dj-filepaths-example\\images\\cd02...     1\n",
       "3         3  C:\\Users\\Eric\\dj-filepaths-example\\images\\cd03...     0\n",
       "4         4  C:\\Users\\Eric\\dj-filepaths-example\\images\\cd04...     0"
      ]
     },
     "execution_count": 34,
     "metadata": {},
     "output_type": "execute_result"
    }
   ],
   "source": [
    "images_df = pd.DataFrame(images.fetch())\n",
    "images_df.head()"
   ]
  },
  {
   "cell_type": "markdown",
   "metadata": {},
   "source": [
    "## Use it: show an image\n",
    "Obviously there are a lot of things you can do with filepaths. The main things you typically want to do first is load the data. Let's do that since this is a simple example."
   ]
  },
  {
   "cell_type": "code",
   "execution_count": 35,
   "metadata": {},
   "outputs": [
    {
     "data": {
      "image/png": "[encoded data removed]",
      "text/plain": [
       "<Figure size 432x288 with 1 Axes>"
      ]
     },
     "metadata": {
      "needs_background": "light"
     },
     "output_type": "display_data"
    }
   ],
   "source": [
    "image_ind = 1\n",
    "image_path = (images & f'image_id = {image_ind}').fetch('image_path')[0]\n",
    "cuteness = (images & f'image_id = {image_ind}').fetch('cute')[0]\n",
    "im = plt.imread(image_path)\n",
    "plt.imshow(im);\n",
    "plt.title('Admit it -- this is pretty cute') if cuteness else plt.title('Sorry not cute')\n",
    "plt.axis('off');"
   ]
  },
  {
   "cell_type": "markdown",
   "metadata": {},
   "source": [
    "This is just a simple example you could do a hell of a lot more!"
   ]
  },
  {
   "cell_type": "markdown",
   "metadata": {},
   "source": [
    "## Sources for images\n",
    "\n",
    "The images (cats, dogs, and a fish) are from:\n",
    "\n",
    "- https://huggablemuggs.com/8-tricks-to-help-your-cat-and-dog-to-get-along/\n",
    "- https://2catsandablog.wordpress.com/2018/08/14/do-cats-and-dogs-really-fight-like-cats-and-dogs/\n",
    "- http://www.waycooldogs.com/feeding-cats-dogs-together/\n",
    "- https://phz8.petinsurance.com/ownership-adoption/pet-ownership/pet-behavior/7-tips-on-combining-multi-pet-household\n",
    "- https://www.mercurynews.com/2019/04/15/whos-going-to-tell-mom-shes-feeding-her-dogs-the-wrong-food/\n",
    "- https://www.meowingtons.com/blogs/lolcats/snuggly-cat-and-dog-best-friends-to-cheer-you-up\n",
    "- https://www.thesprucepets.com/cute-aquarium-sea-critters-4146506\n"
   ]
  }
 ],
 "metadata": {
  "kernelspec": {
   "display_name": "Python 3",
   "language": "python",
   "name": "python3"
  },
  "language_info": {
   "codemirror_mode": {
    "name": "ipython",
    "version": 3
   },
   "file_extension": ".py",
   "mimetype": "text/x-python",
   "name": "python",
   "nbconvert_exporter": "python",
   "pygments_lexer": "ipython3",
   "version": "3.7.7"
  }
 },
 "nbformat": 4,
 "nbformat_minor": 4
}
